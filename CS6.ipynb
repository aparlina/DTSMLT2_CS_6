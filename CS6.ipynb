{
 "cells": [
  {
   "cell_type": "code",
   "execution_count": 1,
   "metadata": {},
   "outputs": [
    {
     "name": "stderr",
     "output_type": "stream",
     "text": [
      "[nltk_data] Downloading package vader_lexicon to\n",
      "[nltk_data]     C:\\Users\\anne\\AppData\\Roaming\\nltk_data...\n",
      "[nltk_data]   Package vader_lexicon is already up-to-date!\n",
      "[nltk_data] Downloading package punkt to\n",
      "[nltk_data]     C:\\Users\\anne\\AppData\\Roaming\\nltk_data...\n",
      "[nltk_data]   Package punkt is already up-to-date!\n",
      "[nltk_data] Downloading package wordnet to\n",
      "[nltk_data]     C:\\Users\\anne\\AppData\\Roaming\\nltk_data...\n",
      "[nltk_data]   Package wordnet is already up-to-date!\n",
      "[nltk_data] Downloading package stopwords to\n",
      "[nltk_data]     C:\\Users\\anne\\AppData\\Roaming\\nltk_data...\n",
      "[nltk_data]   Package stopwords is already up-to-date!\n",
      "[nltk_data] Downloading package omw-1.4 to\n",
      "[nltk_data]     C:\\Users\\anne\\AppData\\Roaming\\nltk_data...\n",
      "[nltk_data]   Package omw-1.4 is already up-to-date!\n"
     ]
    },
    {
     "data": {
      "text/plain": [
       "True"
      ]
     },
     "execution_count": 1,
     "metadata": {},
     "output_type": "execute_result"
    }
   ],
   "source": [
    "import numpy as np\n",
    "import pandas as pd\n",
    "import matplotlib.pyplot as plt\n",
    "import seaborn as sns\n",
    "import re, io\n",
    "import spacy\n",
    "import string\n",
    "\n",
    "import nltk\n",
    "from nltk.stem import PorterStemmer\n",
    "from nltk.stem import WordNetLemmatizer\n",
    "from nltk.tokenize import sent_tokenize, word_tokenize\n",
    "from nltk.corpus import stopwords\n",
    "from nltk.sentiment.vader import SentimentIntensityAnalyzer\n",
    "nltk.download('vader_lexicon')\n",
    "nltk.download('punkt')\n",
    "nltk.download('wordnet')\n",
    "nltk.download('stopwords')\n",
    "nltk.download('omw-1.4')\n"
   ]
  },
  {
   "cell_type": "code",
   "execution_count": 2,
   "metadata": {},
   "outputs": [],
   "source": [
    "twcs_df = pd.read_csv('twcs/twcs.csv')"
   ]
  },
  {
   "cell_type": "code",
   "execution_count": 3,
   "metadata": {},
   "outputs": [
    {
     "data": {
      "text/plain": [
       "(2811774, 7)"
      ]
     },
     "execution_count": 3,
     "metadata": {},
     "output_type": "execute_result"
    }
   ],
   "source": [
    "twcs_df.shape"
   ]
  },
  {
   "cell_type": "code",
   "execution_count": 4,
   "metadata": {},
   "outputs": [
    {
     "data": {
      "text/plain": [
       "Index(['tweet_id', 'author_id', 'inbound', 'created_at', 'text',\n",
       "       'response_tweet_id', 'in_response_to_tweet_id'],\n",
       "      dtype='object')"
      ]
     },
     "execution_count": 4,
     "metadata": {},
     "output_type": "execute_result"
    }
   ],
   "source": [
    "twcs_df.columns"
   ]
  },
  {
   "cell_type": "markdown",
   "metadata": {},
   "source": [
    "Columns Meaning\n",
    "\n",
    "tweet_id\n",
    "The unique ID for this tweet\n",
    "\n",
    "author_id\n",
    "The unqiue ID for this tweet author (anonymized for non-company users)\n",
    "\n",
    "inbound\n",
    "Whether or not the tweet was sent (inbound) to a company\n",
    "\n",
    "created_at\n",
    "When the tweet was created\n",
    "\n",
    "text\n",
    "The text content of the tweet"
   ]
  },
  {
   "cell_type": "code",
   "execution_count": 5,
   "metadata": {},
   "outputs": [
    {
     "data": {
      "text/plain": [
       "(1537843, 7)"
      ]
     },
     "execution_count": 5,
     "metadata": {},
     "output_type": "execute_result"
    }
   ],
   "source": [
    "# We'll focus on what customers said to us, so let's get only customer messages\n",
    "customer_msg = twcs_df[twcs_df.inbound]\n",
    "customer_msg.shape"
   ]
  },
  {
   "cell_type": "code",
   "execution_count": 6,
   "metadata": {},
   "outputs": [
    {
     "data": {
      "text/plain": [
       "(97153, 7)"
      ]
     },
     "execution_count": 6,
     "metadata": {},
     "output_type": "execute_result"
    }
   ],
   "source": [
    "# Original dataset includes support data from multiple companies. Here we choose one company with similar business as ours.\n",
    "# for example AmazonHelp.\n",
    "customer_msg = customer_msg[customer_msg['text'].str.contains(\"AppleSupport\")]\n",
    "customer_msg.shape"
   ]
  },
  {
   "cell_type": "code",
   "execution_count": 7,
   "metadata": {},
   "outputs": [
    {
     "data": {
      "text/html": [
       "<div>\n",
       "<style scoped>\n",
       "    .dataframe tbody tr th:only-of-type {\n",
       "        vertical-align: middle;\n",
       "    }\n",
       "\n",
       "    .dataframe tbody tr th {\n",
       "        vertical-align: top;\n",
       "    }\n",
       "\n",
       "    .dataframe thead th {\n",
       "        text-align: right;\n",
       "    }\n",
       "</style>\n",
       "<table border=\"1\" class=\"dataframe\">\n",
       "  <thead>\n",
       "    <tr style=\"text-align: right;\">\n",
       "      <th></th>\n",
       "      <th>tweet_id</th>\n",
       "      <th>author_id</th>\n",
       "      <th>inbound</th>\n",
       "      <th>created_at</th>\n",
       "      <th>text</th>\n",
       "      <th>response_tweet_id</th>\n",
       "      <th>in_response_to_tweet_id</th>\n",
       "    </tr>\n",
       "  </thead>\n",
       "  <tbody>\n",
       "    <tr>\n",
       "      <th>397</th>\n",
       "      <td>697</td>\n",
       "      <td>115854</td>\n",
       "      <td>True</td>\n",
       "      <td>Tue Oct 31 22:31:23 +0000 2017</td>\n",
       "      <td>@AppleSupport The newest update. I️ made sure ...</td>\n",
       "      <td>699</td>\n",
       "      <td>696.0</td>\n",
       "    </tr>\n",
       "    <tr>\n",
       "      <th>399</th>\n",
       "      <td>698</td>\n",
       "      <td>115854</td>\n",
       "      <td>True</td>\n",
       "      <td>Tue Oct 31 22:17:40 +0000 2017</td>\n",
       "      <td>@AppleSupport  https://t.co/NV0yucs0lB</td>\n",
       "      <td>696</td>\n",
       "      <td>700.0</td>\n",
       "    </tr>\n",
       "    <tr>\n",
       "      <th>400</th>\n",
       "      <td>700</td>\n",
       "      <td>115854</td>\n",
       "      <td>True</td>\n",
       "      <td>Tue Oct 31 22:16:56 +0000 2017</td>\n",
       "      <td>@AppleSupport why are my I️’s changing not sho...</td>\n",
       "      <td>698</td>\n",
       "      <td>NaN</td>\n",
       "    </tr>\n",
       "    <tr>\n",
       "      <th>402</th>\n",
       "      <td>702</td>\n",
       "      <td>115855</td>\n",
       "      <td>True</td>\n",
       "      <td>Tue Oct 31 22:11:31 +0000 2017</td>\n",
       "      <td>@AppleSupport Tried resetting my settings .. r...</td>\n",
       "      <td>701</td>\n",
       "      <td>703.0</td>\n",
       "    </tr>\n",
       "    <tr>\n",
       "      <th>404</th>\n",
       "      <td>704</td>\n",
       "      <td>115855</td>\n",
       "      <td>True</td>\n",
       "      <td>Tue Oct 31 21:59:17 +0000 2017</td>\n",
       "      <td>@AppleSupport This is what it looks like https...</td>\n",
       "      <td>703</td>\n",
       "      <td>705.0</td>\n",
       "    </tr>\n",
       "  </tbody>\n",
       "</table>\n",
       "</div>"
      ],
      "text/plain": [
       "     tweet_id author_id  inbound                      created_at  \\\n",
       "397       697    115854     True  Tue Oct 31 22:31:23 +0000 2017   \n",
       "399       698    115854     True  Tue Oct 31 22:17:40 +0000 2017   \n",
       "400       700    115854     True  Tue Oct 31 22:16:56 +0000 2017   \n",
       "402       702    115855     True  Tue Oct 31 22:11:31 +0000 2017   \n",
       "404       704    115855     True  Tue Oct 31 21:59:17 +0000 2017   \n",
       "\n",
       "                                                  text response_tweet_id  \\\n",
       "397  @AppleSupport The newest update. I️ made sure ...               699   \n",
       "399             @AppleSupport  https://t.co/NV0yucs0lB               696   \n",
       "400  @AppleSupport why are my I️’s changing not sho...               698   \n",
       "402  @AppleSupport Tried resetting my settings .. r...               701   \n",
       "404  @AppleSupport This is what it looks like https...               703   \n",
       "\n",
       "     in_response_to_tweet_id  \n",
       "397                    696.0  \n",
       "399                    700.0  \n",
       "400                      NaN  \n",
       "402                    703.0  \n",
       "404                    705.0  "
      ]
     },
     "execution_count": 7,
     "metadata": {},
     "output_type": "execute_result"
    }
   ],
   "source": [
    "# Let's take a look at the data\n",
    "customer_msg.head()"
   ]
  },
  {
   "cell_type": "code",
   "execution_count": 8,
   "metadata": {},
   "outputs": [
    {
     "data": {
      "text/html": [
       "<div>\n",
       "<style scoped>\n",
       "    .dataframe tbody tr th:only-of-type {\n",
       "        vertical-align: middle;\n",
       "    }\n",
       "\n",
       "    .dataframe tbody tr th {\n",
       "        vertical-align: top;\n",
       "    }\n",
       "\n",
       "    .dataframe thead th {\n",
       "        text-align: right;\n",
       "    }\n",
       "</style>\n",
       "<table border=\"1\" class=\"dataframe\">\n",
       "  <thead>\n",
       "    <tr style=\"text-align: right;\">\n",
       "      <th></th>\n",
       "      <th>tweet_id</th>\n",
       "      <th>author_id</th>\n",
       "      <th>inbound</th>\n",
       "      <th>created_at</th>\n",
       "      <th>text</th>\n",
       "      <th>response_tweet_id</th>\n",
       "      <th>in_response_to_tweet_id</th>\n",
       "    </tr>\n",
       "  </thead>\n",
       "  <tbody>\n",
       "    <tr>\n",
       "      <th>397</th>\n",
       "      <td>697</td>\n",
       "      <td>115854</td>\n",
       "      <td>True</td>\n",
       "      <td>Tue Oct 31 22:31:23 +0000 2017</td>\n",
       "      <td>@AppleSupport The newest update. I️ made sure ...</td>\n",
       "      <td>699</td>\n",
       "      <td>696.0</td>\n",
       "    </tr>\n",
       "    <tr>\n",
       "      <th>399</th>\n",
       "      <td>698</td>\n",
       "      <td>115854</td>\n",
       "      <td>True</td>\n",
       "      <td>Tue Oct 31 22:17:40 +0000 2017</td>\n",
       "      <td>@AppleSupport  https://t.co/NV0yucs0lB</td>\n",
       "      <td>696</td>\n",
       "      <td>700.0</td>\n",
       "    </tr>\n",
       "    <tr>\n",
       "      <th>400</th>\n",
       "      <td>700</td>\n",
       "      <td>115854</td>\n",
       "      <td>True</td>\n",
       "      <td>Tue Oct 31 22:16:56 +0000 2017</td>\n",
       "      <td>@AppleSupport why are my I️’s changing not sho...</td>\n",
       "      <td>698</td>\n",
       "      <td>NaN</td>\n",
       "    </tr>\n",
       "    <tr>\n",
       "      <th>402</th>\n",
       "      <td>702</td>\n",
       "      <td>115855</td>\n",
       "      <td>True</td>\n",
       "      <td>Tue Oct 31 22:11:31 +0000 2017</td>\n",
       "      <td>@AppleSupport Tried resetting my settings .. r...</td>\n",
       "      <td>701</td>\n",
       "      <td>703.0</td>\n",
       "    </tr>\n",
       "    <tr>\n",
       "      <th>404</th>\n",
       "      <td>704</td>\n",
       "      <td>115855</td>\n",
       "      <td>True</td>\n",
       "      <td>Tue Oct 31 21:59:17 +0000 2017</td>\n",
       "      <td>@AppleSupport This is what it looks like https...</td>\n",
       "      <td>703</td>\n",
       "      <td>705.0</td>\n",
       "    </tr>\n",
       "  </tbody>\n",
       "</table>\n",
       "</div>"
      ],
      "text/plain": [
       "     tweet_id author_id  inbound                      created_at  \\\n",
       "397       697    115854     True  Tue Oct 31 22:31:23 +0000 2017   \n",
       "399       698    115854     True  Tue Oct 31 22:17:40 +0000 2017   \n",
       "400       700    115854     True  Tue Oct 31 22:16:56 +0000 2017   \n",
       "402       702    115855     True  Tue Oct 31 22:11:31 +0000 2017   \n",
       "404       704    115855     True  Tue Oct 31 21:59:17 +0000 2017   \n",
       "\n",
       "                                                  text response_tweet_id  \\\n",
       "397  @AppleSupport The newest update. I️ made sure ...               699   \n",
       "399             @AppleSupport  https://t.co/NV0yucs0lB               696   \n",
       "400  @AppleSupport why are my I️’s changing not sho...               698   \n",
       "402  @AppleSupport Tried resetting my settings .. r...               701   \n",
       "404  @AppleSupport This is what it looks like https...               703   \n",
       "\n",
       "     in_response_to_tweet_id  \n",
       "397                    696.0  \n",
       "399                    700.0  \n",
       "400                      NaN  \n",
       "402                    703.0  \n",
       "404                    705.0  "
      ]
     },
     "execution_count": 8,
     "metadata": {},
     "output_type": "execute_result"
    }
   ],
   "source": [
    "# Let us clean the tweet text for better visualization\n",
    "customer_msg = customer_msg[~customer_msg['text'].isnull()]\n",
    "\n",
    "customer_msg.head()"
   ]
  },
  {
   "cell_type": "code",
   "execution_count": 9,
   "metadata": {},
   "outputs": [],
   "source": [
    "def preprocess(CleanText):\n",
    "    CleanText = CleanText.str.replace(\"(<br/>)\", \"\", regex=True)\n",
    "    CleanText = CleanText.str.replace('(<a).*(>).*(</a>)', '', regex=True)\n",
    "    CleanText = CleanText.str.replace('(&amp)', '', regex=True)\n",
    "    CleanText = CleanText.str.replace('(&gt)', '', regex=True)\n",
    "    CleanText = CleanText.str.replace('(&lt)', '', regex=True)\n",
    "    CleanText = CleanText.str.replace('(\\xa0)', ' ', regex=True) \n",
    "    CleanText = CleanText.str.lower()  \n",
    "    return CleanText\n",
    "\n",
    "customer_msg['text'] = preprocess(customer_msg['text'])"
   ]
  },
  {
   "cell_type": "code",
   "execution_count": 10,
   "metadata": {},
   "outputs": [
    {
     "data": {
      "text/html": [
       "<div>\n",
       "<style scoped>\n",
       "    .dataframe tbody tr th:only-of-type {\n",
       "        vertical-align: middle;\n",
       "    }\n",
       "\n",
       "    .dataframe tbody tr th {\n",
       "        vertical-align: top;\n",
       "    }\n",
       "\n",
       "    .dataframe thead th {\n",
       "        text-align: right;\n",
       "    }\n",
       "</style>\n",
       "<table border=\"1\" class=\"dataframe\">\n",
       "  <thead>\n",
       "    <tr style=\"text-align: right;\">\n",
       "      <th></th>\n",
       "      <th>tweet_id</th>\n",
       "      <th>author_id</th>\n",
       "      <th>inbound</th>\n",
       "      <th>created_at</th>\n",
       "      <th>text</th>\n",
       "      <th>response_tweet_id</th>\n",
       "      <th>in_response_to_tweet_id</th>\n",
       "    </tr>\n",
       "  </thead>\n",
       "  <tbody>\n",
       "    <tr>\n",
       "      <th>397</th>\n",
       "      <td>697</td>\n",
       "      <td>115854</td>\n",
       "      <td>True</td>\n",
       "      <td>Tue Oct 31 22:31:23 +0000 2017</td>\n",
       "      <td>@applesupport the newest update. i️ made sure ...</td>\n",
       "      <td>699</td>\n",
       "      <td>696.0</td>\n",
       "    </tr>\n",
       "    <tr>\n",
       "      <th>399</th>\n",
       "      <td>698</td>\n",
       "      <td>115854</td>\n",
       "      <td>True</td>\n",
       "      <td>Tue Oct 31 22:17:40 +0000 2017</td>\n",
       "      <td>@applesupport  https://t.co/nv0yucs0lb</td>\n",
       "      <td>696</td>\n",
       "      <td>700.0</td>\n",
       "    </tr>\n",
       "    <tr>\n",
       "      <th>400</th>\n",
       "      <td>700</td>\n",
       "      <td>115854</td>\n",
       "      <td>True</td>\n",
       "      <td>Tue Oct 31 22:16:56 +0000 2017</td>\n",
       "      <td>@applesupport why are my i️’s changing not sho...</td>\n",
       "      <td>698</td>\n",
       "      <td>NaN</td>\n",
       "    </tr>\n",
       "    <tr>\n",
       "      <th>402</th>\n",
       "      <td>702</td>\n",
       "      <td>115855</td>\n",
       "      <td>True</td>\n",
       "      <td>Tue Oct 31 22:11:31 +0000 2017</td>\n",
       "      <td>@applesupport tried resetting my settings .. r...</td>\n",
       "      <td>701</td>\n",
       "      <td>703.0</td>\n",
       "    </tr>\n",
       "    <tr>\n",
       "      <th>404</th>\n",
       "      <td>704</td>\n",
       "      <td>115855</td>\n",
       "      <td>True</td>\n",
       "      <td>Tue Oct 31 21:59:17 +0000 2017</td>\n",
       "      <td>@applesupport this is what it looks like https...</td>\n",
       "      <td>703</td>\n",
       "      <td>705.0</td>\n",
       "    </tr>\n",
       "  </tbody>\n",
       "</table>\n",
       "</div>"
      ],
      "text/plain": [
       "     tweet_id author_id  inbound                      created_at  \\\n",
       "397       697    115854     True  Tue Oct 31 22:31:23 +0000 2017   \n",
       "399       698    115854     True  Tue Oct 31 22:17:40 +0000 2017   \n",
       "400       700    115854     True  Tue Oct 31 22:16:56 +0000 2017   \n",
       "402       702    115855     True  Tue Oct 31 22:11:31 +0000 2017   \n",
       "404       704    115855     True  Tue Oct 31 21:59:17 +0000 2017   \n",
       "\n",
       "                                                  text response_tweet_id  \\\n",
       "397  @applesupport the newest update. i️ made sure ...               699   \n",
       "399             @applesupport  https://t.co/nv0yucs0lb               696   \n",
       "400  @applesupport why are my i️’s changing not sho...               698   \n",
       "402  @applesupport tried resetting my settings .. r...               701   \n",
       "404  @applesupport this is what it looks like https...               703   \n",
       "\n",
       "     in_response_to_tweet_id  \n",
       "397                    696.0  \n",
       "399                    700.0  \n",
       "400                      NaN  \n",
       "402                    703.0  \n",
       "404                    705.0  "
      ]
     },
     "execution_count": 10,
     "metadata": {},
     "output_type": "execute_result"
    }
   ],
   "source": [
    "customer_msg.head()"
   ]
  },
  {
   "cell_type": "code",
   "execution_count": 11,
   "metadata": {},
   "outputs": [],
   "source": [
    "# Pre processing the tweets by performing stemming and lemmatization using nltk\n",
    "stopword = stopwords.words('english')\n",
    "def preprocess_tweets(customer_msg):\n",
    "    corpus = []\n",
    "    stem = PorterStemmer()\n",
    "    lem = WordNetLemmatizer()\n",
    "    for tweets in customer_msg['text']:\n",
    "        words = [w for w in word_tokenize(tweets) if (w not in stopword)]\n",
    "        \n",
    "        words = [lem.lemmatize(w) for w in words if len(w)>2]\n",
    "        \n",
    "        corpus.append(words)\n",
    "    return corpus\n",
    "\n",
    "corpus = preprocess_tweets(customer_msg)"
   ]
  },
  {
   "cell_type": "code",
   "execution_count": 12,
   "metadata": {},
   "outputs": [
    {
     "data": {
      "text/html": [
       "<div>\n",
       "<style scoped>\n",
       "    .dataframe tbody tr th:only-of-type {\n",
       "        vertical-align: middle;\n",
       "    }\n",
       "\n",
       "    .dataframe tbody tr th {\n",
       "        vertical-align: top;\n",
       "    }\n",
       "\n",
       "    .dataframe thead th {\n",
       "        text-align: right;\n",
       "    }\n",
       "</style>\n",
       "<table border=\"1\" class=\"dataframe\">\n",
       "  <thead>\n",
       "    <tr style=\"text-align: right;\">\n",
       "      <th></th>\n",
       "      <th>teks</th>\n",
       "    </tr>\n",
       "  </thead>\n",
       "  <tbody>\n",
       "    <tr>\n",
       "      <th>0</th>\n",
       "      <td>applesupport newest update made sure download ...</td>\n",
       "    </tr>\n",
       "    <tr>\n",
       "      <th>1</th>\n",
       "      <td>applesupport http //t.co/nv0yucs0lb</td>\n",
       "    </tr>\n",
       "    <tr>\n",
       "      <th>2</th>\n",
       "      <td>applesupport changing showing correctly social...</td>\n",
       "    </tr>\n",
       "    <tr>\n",
       "      <th>3</th>\n",
       "      <td>applesupport tried resetting setting restartin...</td>\n",
       "    </tr>\n",
       "    <tr>\n",
       "      <th>4</th>\n",
       "      <td>applesupport look like http //t.co/xcqu2l4xub</td>\n",
       "    </tr>\n",
       "    <tr>\n",
       "      <th>5</th>\n",
       "      <td>applesupport iphone plus yes</td>\n",
       "    </tr>\n",
       "    <tr>\n",
       "      <th>6</th>\n",
       "      <td>applesupport need answer annoying</td>\n",
       "    </tr>\n",
       "    <tr>\n",
       "      <th>7</th>\n",
       "      <td>applesupport sent</td>\n",
       "    </tr>\n",
       "    <tr>\n",
       "      <th>8</th>\n",
       "      <td>hey applesupport anyone else upgraded ios11.1 ...</td>\n",
       "    </tr>\n",
       "    <tr>\n",
       "      <th>9</th>\n",
       "      <td>applesupport happening ... http //t.co/x3szsjxfat</td>\n",
       "    </tr>\n",
       "    <tr>\n",
       "      <th>10</th>\n",
       "      <td>applesupport call centre closed night</td>\n",
       "    </tr>\n",
       "    <tr>\n",
       "      <th>11</th>\n",
       "      <td>115858 applesupport hello line closed tonight ...</td>\n",
       "    </tr>\n",
       "    <tr>\n",
       "      <th>12</th>\n",
       "      <td>115861 115862 applesupport upgraded i️t work</td>\n",
       "    </tr>\n",
       "    <tr>\n",
       "      <th>13</th>\n",
       "      <td>115862 applesupport</td>\n",
       "    </tr>\n",
       "    <tr>\n",
       "      <th>14</th>\n",
       "      <td>applesupport 115861 going need share answer an...</td>\n",
       "    </tr>\n",
       "    <tr>\n",
       "      <th>15</th>\n",
       "      <td>hello internet someone explain symbol keep app...</td>\n",
       "    </tr>\n",
       "    <tr>\n",
       "      <th>16</th>\n",
       "      <td>applesupport got screenshot saying iphonex res...</td>\n",
       "    </tr>\n",
       "    <tr>\n",
       "      <th>17</th>\n",
       "      <td>applesupport iphone plus recent update</td>\n",
       "    </tr>\n",
       "    <tr>\n",
       "      <th>18</th>\n",
       "      <td>thank applesupport updated phone even slower b...</td>\n",
       "    </tr>\n",
       "    <tr>\n",
       "      <th>19</th>\n",
       "      <td>applesupport io 11.0.3</td>\n",
       "    </tr>\n",
       "    <tr>\n",
       "      <th>20</th>\n",
       "      <td>applesupport okey thank</td>\n",
       "    </tr>\n",
       "    <tr>\n",
       "      <th>21</th>\n",
       "      <td>applesupport iphone plus</td>\n",
       "    </tr>\n",
       "    <tr>\n",
       "      <th>22</th>\n",
       "      <td>applesupport need software update urgently bat...</td>\n",
       "    </tr>\n",
       "    <tr>\n",
       "      <th>23</th>\n",
       "      <td>hola applesupport necesito urgente actualizaci...</td>\n",
       "    </tr>\n",
       "    <tr>\n",
       "      <th>24</th>\n",
       "      <td>applesupport going youtube lost done thanks su...</td>\n",
       "    </tr>\n",
       "  </tbody>\n",
       "</table>\n",
       "</div>"
      ],
      "text/plain": [
       "                                                 teks\n",
       "0   applesupport newest update made sure download ...\n",
       "1                 applesupport http //t.co/nv0yucs0lb\n",
       "2   applesupport changing showing correctly social...\n",
       "3   applesupport tried resetting setting restartin...\n",
       "4       applesupport look like http //t.co/xcqu2l4xub\n",
       "5                        applesupport iphone plus yes\n",
       "6                   applesupport need answer annoying\n",
       "7                                   applesupport sent\n",
       "8   hey applesupport anyone else upgraded ios11.1 ...\n",
       "9   applesupport happening ... http //t.co/x3szsjxfat\n",
       "10              applesupport call centre closed night\n",
       "11  115858 applesupport hello line closed tonight ...\n",
       "12       115861 115862 applesupport upgraded i️t work\n",
       "13                                115862 applesupport\n",
       "14  applesupport 115861 going need share answer an...\n",
       "15  hello internet someone explain symbol keep app...\n",
       "16  applesupport got screenshot saying iphonex res...\n",
       "17             applesupport iphone plus recent update\n",
       "18  thank applesupport updated phone even slower b...\n",
       "19                             applesupport io 11.0.3\n",
       "20                            applesupport okey thank\n",
       "21                           applesupport iphone plus\n",
       "22  applesupport need software update urgently bat...\n",
       "23  hola applesupport necesito urgente actualizaci...\n",
       "24  applesupport going youtube lost done thanks su..."
      ]
     },
     "execution_count": 12,
     "metadata": {},
     "output_type": "execute_result"
    }
   ],
   "source": [
    "corpus_sentence = [[' '.join(i)] for i in corpus]\n",
    "customer_msg = pd.DataFrame(corpus_sentence, columns=['teks'])\n",
    "customer_msg.head(25)\n"
   ]
  },
  {
   "cell_type": "code",
   "execution_count": 13,
   "metadata": {},
   "outputs": [],
   "source": [
    "sid = SentimentIntensityAnalyzer()"
   ]
  },
  {
   "cell_type": "code",
   "execution_count": 14,
   "metadata": {},
   "outputs": [
    {
     "data": {
      "text/html": [
       "<div>\n",
       "<style scoped>\n",
       "    .dataframe tbody tr th:only-of-type {\n",
       "        vertical-align: middle;\n",
       "    }\n",
       "\n",
       "    .dataframe tbody tr th {\n",
       "        vertical-align: top;\n",
       "    }\n",
       "\n",
       "    .dataframe thead th {\n",
       "        text-align: right;\n",
       "    }\n",
       "</style>\n",
       "<table border=\"1\" class=\"dataframe\">\n",
       "  <thead>\n",
       "    <tr style=\"text-align: right;\">\n",
       "      <th></th>\n",
       "      <th>teks</th>\n",
       "      <th>scores</th>\n",
       "    </tr>\n",
       "  </thead>\n",
       "  <tbody>\n",
       "    <tr>\n",
       "      <th>0</th>\n",
       "      <td>applesupport newest update made sure download ...</td>\n",
       "      <td>{'neg': 0.0, 'neu': 0.723, 'pos': 0.277, 'comp...</td>\n",
       "    </tr>\n",
       "    <tr>\n",
       "      <th>1</th>\n",
       "      <td>applesupport http //t.co/nv0yucs0lb</td>\n",
       "      <td>{'neg': 0.0, 'neu': 1.0, 'pos': 0.0, 'compound...</td>\n",
       "    </tr>\n",
       "    <tr>\n",
       "      <th>2</th>\n",
       "      <td>applesupport changing showing correctly social...</td>\n",
       "      <td>{'neg': 0.0, 'neu': 1.0, 'pos': 0.0, 'compound...</td>\n",
       "    </tr>\n",
       "    <tr>\n",
       "      <th>3</th>\n",
       "      <td>applesupport tried resetting setting restartin...</td>\n",
       "      <td>{'neg': 0.0, 'neu': 1.0, 'pos': 0.0, 'compound...</td>\n",
       "    </tr>\n",
       "    <tr>\n",
       "      <th>4</th>\n",
       "      <td>applesupport look like http //t.co/xcqu2l4xub</td>\n",
       "      <td>{'neg': 0.0, 'neu': 0.615, 'pos': 0.385, 'comp...</td>\n",
       "    </tr>\n",
       "  </tbody>\n",
       "</table>\n",
       "</div>"
      ],
      "text/plain": [
       "                                                teks  \\\n",
       "0  applesupport newest update made sure download ...   \n",
       "1                applesupport http //t.co/nv0yucs0lb   \n",
       "2  applesupport changing showing correctly social...   \n",
       "3  applesupport tried resetting setting restartin...   \n",
       "4      applesupport look like http //t.co/xcqu2l4xub   \n",
       "\n",
       "                                              scores  \n",
       "0  {'neg': 0.0, 'neu': 0.723, 'pos': 0.277, 'comp...  \n",
       "1  {'neg': 0.0, 'neu': 1.0, 'pos': 0.0, 'compound...  \n",
       "2  {'neg': 0.0, 'neu': 1.0, 'pos': 0.0, 'compound...  \n",
       "3  {'neg': 0.0, 'neu': 1.0, 'pos': 0.0, 'compound...  \n",
       "4  {'neg': 0.0, 'neu': 0.615, 'pos': 0.385, 'comp...  "
      ]
     },
     "execution_count": 14,
     "metadata": {},
     "output_type": "execute_result"
    }
   ],
   "source": [
    "customer_msg['scores'] = customer_msg['teks'].apply(lambda text: sid.polarity_scores(str(text)))\n",
    "\n",
    "customer_msg.head()"
   ]
  },
  {
   "cell_type": "code",
   "execution_count": 15,
   "metadata": {},
   "outputs": [
    {
     "data": {
      "text/html": [
       "<div>\n",
       "<style scoped>\n",
       "    .dataframe tbody tr th:only-of-type {\n",
       "        vertical-align: middle;\n",
       "    }\n",
       "\n",
       "    .dataframe tbody tr th {\n",
       "        vertical-align: top;\n",
       "    }\n",
       "\n",
       "    .dataframe thead th {\n",
       "        text-align: right;\n",
       "    }\n",
       "</style>\n",
       "<table border=\"1\" class=\"dataframe\">\n",
       "  <thead>\n",
       "    <tr style=\"text-align: right;\">\n",
       "      <th></th>\n",
       "      <th>teks</th>\n",
       "      <th>scores</th>\n",
       "      <th>compound</th>\n",
       "    </tr>\n",
       "  </thead>\n",
       "  <tbody>\n",
       "    <tr>\n",
       "      <th>0</th>\n",
       "      <td>applesupport newest update made sure download ...</td>\n",
       "      <td>{'neg': 0.0, 'neu': 0.723, 'pos': 0.277, 'comp...</td>\n",
       "      <td>0.3182</td>\n",
       "    </tr>\n",
       "    <tr>\n",
       "      <th>1</th>\n",
       "      <td>applesupport http //t.co/nv0yucs0lb</td>\n",
       "      <td>{'neg': 0.0, 'neu': 1.0, 'pos': 0.0, 'compound...</td>\n",
       "      <td>0.0000</td>\n",
       "    </tr>\n",
       "    <tr>\n",
       "      <th>2</th>\n",
       "      <td>applesupport changing showing correctly social...</td>\n",
       "      <td>{'neg': 0.0, 'neu': 1.0, 'pos': 0.0, 'compound...</td>\n",
       "      <td>0.0000</td>\n",
       "    </tr>\n",
       "    <tr>\n",
       "      <th>3</th>\n",
       "      <td>applesupport tried resetting setting restartin...</td>\n",
       "      <td>{'neg': 0.0, 'neu': 1.0, 'pos': 0.0, 'compound...</td>\n",
       "      <td>0.0000</td>\n",
       "    </tr>\n",
       "    <tr>\n",
       "      <th>4</th>\n",
       "      <td>applesupport look like http //t.co/xcqu2l4xub</td>\n",
       "      <td>{'neg': 0.0, 'neu': 0.615, 'pos': 0.385, 'comp...</td>\n",
       "      <td>0.3612</td>\n",
       "    </tr>\n",
       "  </tbody>\n",
       "</table>\n",
       "</div>"
      ],
      "text/plain": [
       "                                                teks  \\\n",
       "0  applesupport newest update made sure download ...   \n",
       "1                applesupport http //t.co/nv0yucs0lb   \n",
       "2  applesupport changing showing correctly social...   \n",
       "3  applesupport tried resetting setting restartin...   \n",
       "4      applesupport look like http //t.co/xcqu2l4xub   \n",
       "\n",
       "                                              scores  compound  \n",
       "0  {'neg': 0.0, 'neu': 0.723, 'pos': 0.277, 'comp...    0.3182  \n",
       "1  {'neg': 0.0, 'neu': 1.0, 'pos': 0.0, 'compound...    0.0000  \n",
       "2  {'neg': 0.0, 'neu': 1.0, 'pos': 0.0, 'compound...    0.0000  \n",
       "3  {'neg': 0.0, 'neu': 1.0, 'pos': 0.0, 'compound...    0.0000  \n",
       "4  {'neg': 0.0, 'neu': 0.615, 'pos': 0.385, 'comp...    0.3612  "
      ]
     },
     "execution_count": 15,
     "metadata": {},
     "output_type": "execute_result"
    }
   ],
   "source": [
    "customer_msg['compound']  = customer_msg['scores'].apply(lambda score_dict: score_dict['compound'])\n",
    "\n",
    "customer_msg.head()"
   ]
  },
  {
   "cell_type": "code",
   "execution_count": 16,
   "metadata": {},
   "outputs": [
    {
     "data": {
      "text/html": [
       "<div>\n",
       "<style scoped>\n",
       "    .dataframe tbody tr th:only-of-type {\n",
       "        vertical-align: middle;\n",
       "    }\n",
       "\n",
       "    .dataframe tbody tr th {\n",
       "        vertical-align: top;\n",
       "    }\n",
       "\n",
       "    .dataframe thead th {\n",
       "        text-align: right;\n",
       "    }\n",
       "</style>\n",
       "<table border=\"1\" class=\"dataframe\">\n",
       "  <thead>\n",
       "    <tr style=\"text-align: right;\">\n",
       "      <th></th>\n",
       "      <th>teks</th>\n",
       "      <th>scores</th>\n",
       "      <th>compound</th>\n",
       "      <th>comp_score</th>\n",
       "    </tr>\n",
       "  </thead>\n",
       "  <tbody>\n",
       "    <tr>\n",
       "      <th>0</th>\n",
       "      <td>applesupport newest update made sure download ...</td>\n",
       "      <td>{'neg': 0.0, 'neu': 0.723, 'pos': 0.277, 'comp...</td>\n",
       "      <td>0.3182</td>\n",
       "      <td>positive</td>\n",
       "    </tr>\n",
       "    <tr>\n",
       "      <th>1</th>\n",
       "      <td>applesupport http //t.co/nv0yucs0lb</td>\n",
       "      <td>{'neg': 0.0, 'neu': 1.0, 'pos': 0.0, 'compound...</td>\n",
       "      <td>0.0000</td>\n",
       "      <td>negative</td>\n",
       "    </tr>\n",
       "    <tr>\n",
       "      <th>2</th>\n",
       "      <td>applesupport changing showing correctly social...</td>\n",
       "      <td>{'neg': 0.0, 'neu': 1.0, 'pos': 0.0, 'compound...</td>\n",
       "      <td>0.0000</td>\n",
       "      <td>negative</td>\n",
       "    </tr>\n",
       "    <tr>\n",
       "      <th>3</th>\n",
       "      <td>applesupport tried resetting setting restartin...</td>\n",
       "      <td>{'neg': 0.0, 'neu': 1.0, 'pos': 0.0, 'compound...</td>\n",
       "      <td>0.0000</td>\n",
       "      <td>negative</td>\n",
       "    </tr>\n",
       "    <tr>\n",
       "      <th>4</th>\n",
       "      <td>applesupport look like http //t.co/xcqu2l4xub</td>\n",
       "      <td>{'neg': 0.0, 'neu': 0.615, 'pos': 0.385, 'comp...</td>\n",
       "      <td>0.3612</td>\n",
       "      <td>positive</td>\n",
       "    </tr>\n",
       "  </tbody>\n",
       "</table>\n",
       "</div>"
      ],
      "text/plain": [
       "                                                teks  \\\n",
       "0  applesupport newest update made sure download ...   \n",
       "1                applesupport http //t.co/nv0yucs0lb   \n",
       "2  applesupport changing showing correctly social...   \n",
       "3  applesupport tried resetting setting restartin...   \n",
       "4      applesupport look like http //t.co/xcqu2l4xub   \n",
       "\n",
       "                                              scores  compound comp_score  \n",
       "0  {'neg': 0.0, 'neu': 0.723, 'pos': 0.277, 'comp...    0.3182   positive  \n",
       "1  {'neg': 0.0, 'neu': 1.0, 'pos': 0.0, 'compound...    0.0000   negative  \n",
       "2  {'neg': 0.0, 'neu': 1.0, 'pos': 0.0, 'compound...    0.0000   negative  \n",
       "3  {'neg': 0.0, 'neu': 1.0, 'pos': 0.0, 'compound...    0.0000   negative  \n",
       "4  {'neg': 0.0, 'neu': 0.615, 'pos': 0.385, 'comp...    0.3612   positive  "
      ]
     },
     "execution_count": 16,
     "metadata": {},
     "output_type": "execute_result"
    }
   ],
   "source": [
    "#customer_msg['comp_score'] = customer_msg['compound'].apply(lambda c: 'positive' if c >=0.1 else ('negative' if c<=-0.1 else 'neutral'))\n",
    "customer_msg['comp_score'] = customer_msg['compound'].apply(lambda c: 'positive' if c >=0.03 else 'negative')\n",
    "customer_msg.head()"
   ]
  },
  {
   "cell_type": "code",
   "execution_count": 17,
   "metadata": {},
   "outputs": [
    {
     "data": {
      "text/plain": [
       "negative    63800\n",
       "positive    33353\n",
       "Name: comp_score, dtype: int64"
      ]
     },
     "execution_count": 17,
     "metadata": {},
     "output_type": "execute_result"
    }
   ],
   "source": [
    "customer_msg['comp_score'].value_counts()"
   ]
  },
  {
   "cell_type": "code",
   "execution_count": 18,
   "metadata": {},
   "outputs": [
    {
     "data": {
      "text/plain": [
       "<AxesSubplot:ylabel='comp_score'>"
      ]
     },
     "execution_count": 18,
     "metadata": {},
     "output_type": "execute_result"
    },
    {
     "data": {
      "image/png": "[encoded data removed]",
      "text/plain": [
       "<Figure size 432x288 with 1 Axes>"
      ]
     },
     "metadata": {},
     "output_type": "display_data"
    }
   ],
   "source": [
    "customer_msg['comp_score'].value_counts().plot(kind='pie', autopct='%1.0f%%', colors=[\"green\", \"yellow\", \"red\"])"
   ]
  },
  {
   "cell_type": "code",
   "execution_count": 19,
   "metadata": {},
   "outputs": [],
   "source": [
    "customer_msg.drop(['scores', 'compound'], axis=1, inplace=True)"
   ]
  },
  {
   "cell_type": "code",
   "execution_count": 20,
   "metadata": {},
   "outputs": [
    {
     "data": {
      "text/html": [
       "<div>\n",
       "<style scoped>\n",
       "    .dataframe tbody tr th:only-of-type {\n",
       "        vertical-align: middle;\n",
       "    }\n",
       "\n",
       "    .dataframe tbody tr th {\n",
       "        vertical-align: top;\n",
       "    }\n",
       "\n",
       "    .dataframe thead th {\n",
       "        text-align: right;\n",
       "    }\n",
       "</style>\n",
       "<table border=\"1\" class=\"dataframe\">\n",
       "  <thead>\n",
       "    <tr style=\"text-align: right;\">\n",
       "      <th></th>\n",
       "      <th>teks</th>\n",
       "      <th>comp_score</th>\n",
       "    </tr>\n",
       "  </thead>\n",
       "  <tbody>\n",
       "    <tr>\n",
       "      <th>0</th>\n",
       "      <td>applesupport newest update made sure download ...</td>\n",
       "      <td>positive</td>\n",
       "    </tr>\n",
       "    <tr>\n",
       "      <th>1</th>\n",
       "      <td>applesupport http //t.co/nv0yucs0lb</td>\n",
       "      <td>negative</td>\n",
       "    </tr>\n",
       "    <tr>\n",
       "      <th>2</th>\n",
       "      <td>applesupport changing showing correctly social...</td>\n",
       "      <td>negative</td>\n",
       "    </tr>\n",
       "    <tr>\n",
       "      <th>3</th>\n",
       "      <td>applesupport tried resetting setting restartin...</td>\n",
       "      <td>negative</td>\n",
       "    </tr>\n",
       "    <tr>\n",
       "      <th>4</th>\n",
       "      <td>applesupport look like http //t.co/xcqu2l4xub</td>\n",
       "      <td>positive</td>\n",
       "    </tr>\n",
       "  </tbody>\n",
       "</table>\n",
       "</div>"
      ],
      "text/plain": [
       "                                                teks comp_score\n",
       "0  applesupport newest update made sure download ...   positive\n",
       "1                applesupport http //t.co/nv0yucs0lb   negative\n",
       "2  applesupport changing showing correctly social...   negative\n",
       "3  applesupport tried resetting setting restartin...   negative\n",
       "4      applesupport look like http //t.co/xcqu2l4xub   positive"
      ]
     },
     "execution_count": 20,
     "metadata": {},
     "output_type": "execute_result"
    }
   ],
   "source": [
    "customer_msg.head()"
   ]
  },
  {
   "cell_type": "code",
   "execution_count": 21,
   "metadata": {},
   "outputs": [],
   "source": [
    "#customer_msg.comp_score = customer_msg.comp_score.replace({'positive': 1, 'neutral':0, 'negative': -1})\n",
    "customer_msg.comp_score = customer_msg.comp_score.replace({'positive': 1, 'negative': 0})"
   ]
  },
  {
   "cell_type": "code",
   "execution_count": 22,
   "metadata": {},
   "outputs": [],
   "source": [
    "from sklearn.model_selection import train_test_split\n",
    "from sklearn.metrics import classification_report\n",
    "#sklearn\n",
    "from keras.preprocessing.text import Tokenizer\n",
    "from keras_preprocessing.sequence import pad_sequences\n",
    "from keras.models import Sequential\n",
    "from keras.layers import Activation, Dense, Dropout, Embedding, Flatten, Conv1D, MaxPooling1D, LSTM\n",
    "from keras import utils\n",
    "from keras.callbacks import ReduceLROnPlateau, EarlyStopping\n",
    "from keras.optimizers import Adam\n",
    "#keras\n",
    "import tensorflow as tf\n",
    "#tensorflow"
   ]
  },
  {
   "cell_type": "code",
   "execution_count": 23,
   "metadata": {},
   "outputs": [],
   "source": [
    "train, test = train_test_split(customer_msg, test_size=0.1, random_state=44)\n"
   ]
  },
  {
   "cell_type": "code",
   "execution_count": 41,
   "metadata": {},
   "outputs": [
    {
     "name": "stdout",
     "output_type": "stream",
     "text": [
      "Train dataset shape: (87437, 2)\n",
      "Test dataset shape: (9716, 2)\n"
     ]
    }
   ],
   "source": [
    "print('Train dataset shape: {}'.format(train.shape))\n",
    "print('Test dataset shape: {}'.format(test.shape))"
   ]
  },
  {
   "cell_type": "code",
   "execution_count": 42,
   "metadata": {},
   "outputs": [],
   "source": [
    "train_texts = pd.concat([train['teks']],axis=0).astype(\"str\")\n",
    "test_texts = pd.concat([test['teks']],axis=0).astype(\"str\")"
   ]
  },
  {
   "cell_type": "code",
   "execution_count": 43,
   "metadata": {},
   "outputs": [],
   "source": [
    "tokenizer = Tokenizer()\n",
    "tokenizer.fit_on_texts(train_texts)  \n",
    "vocab_size = len(tokenizer.word_index) + 1 \n",
    "max_length = 50"
   ]
  },
  {
   "cell_type": "code",
   "execution_count": 44,
   "metadata": {},
   "outputs": [
    {
     "name": "stdout",
     "output_type": "stream",
     "text": [
      "Vocab size :  48706\n"
     ]
    }
   ],
   "source": [
    "print('Vocab size : ', vocab_size)"
   ]
  },
  {
   "cell_type": "code",
   "execution_count": 45,
   "metadata": {},
   "outputs": [],
   "source": [
    "sequences_train = tokenizer.texts_to_sequences(train_texts) \n",
    "sequences_test = tokenizer.texts_to_sequences(test_texts) \n",
    "\n",
    "X_train = pad_sequences(sequences_train, maxlen=max_length, padding='post')\n",
    "X_test = pad_sequences(sequences_test, maxlen=max_length, padding='post')\n",
    "\n",
    "y_train = train.comp_score.values\n",
    "y_test = test.comp_score.values"
   ]
  },
  {
   "cell_type": "code",
   "execution_count": 46,
   "metadata": {},
   "outputs": [],
   "source": [
    "embeddings_dictionary = dict()\n",
    "embedding_dim = 100\n",
    "glove_file = open('glove.6B.100d.txt', encoding=\"utf-8\")\n",
    "\n",
    "for line in glove_file:\n",
    "    records = line.split()\n",
    "    word = records[0]\n",
    "    vector_dimensions = np.asarray(records[1:], dtype='float32')\n",
    "    embeddings_dictionary [word] = vector_dimensions\n",
    "    \n",
    "glove_file.close()\n",
    "\n",
    "embeddings_matrix = np.zeros((vocab_size, embedding_dim))\n",
    "for word, index in tokenizer.word_index.items():\n",
    "    embedding_vector = embeddings_dictionary.get(word)\n",
    "    if embedding_vector is not None:\n",
    "        embeddings_matrix[index] = embedding_vector"
   ]
  },
  {
   "cell_type": "code",
   "execution_count": 47,
   "metadata": {},
   "outputs": [
    {
     "name": "stdout",
     "output_type": "stream",
     "text": [
      "Embedding Matrix Generating...\n",
      "Embedding Matrix Shape ->  (48706, 100)\n"
     ]
    }
   ],
   "source": [
    "print('Embedding Matrix Generating...')\n",
    "print('Embedding Matrix Shape -> ', embeddings_matrix.shape)"
   ]
  },
  {
   "cell_type": "code",
   "execution_count": 48,
   "metadata": {},
   "outputs": [],
   "source": [
    "import tensorflow as tf\n",
    "from tensorflow import keras\n",
    "from tensorflow.keras.preprocessing.text import Tokenizer\n",
    "from tensorflow.keras.preprocessing.sequence import pad_sequences\n",
    "from tensorflow.keras.layers import Embedding, LSTM, Bidirectional, Dropout, Dense\n",
    "from tensorflow.keras.optimizers import Adam"
   ]
  },
  {
   "cell_type": "code",
   "execution_count": 50,
   "metadata": {},
   "outputs": [
    {
     "name": "stdout",
     "output_type": "stream",
     "text": [
      "Model: \"sequential_3\"\n",
      "_________________________________________________________________\n",
      " Layer (type)                Output Shape              Param #   \n",
      "=================================================================\n",
      " embedding_3 (Embedding)     (None, 50, 100)           4870600   \n",
      "                                                                 \n",
      " dropout_4 (Dropout)         (None, 50, 100)           0         \n",
      "                                                                 \n",
      " bidirectional_6 (Bidirectio  (None, 50, 128)          84480     \n",
      " nal)                                                            \n",
      "                                                                 \n",
      " bidirectional_7 (Bidirectio  (None, 64)               41216     \n",
      " nal)                                                            \n",
      "                                                                 \n",
      " dense_6 (Dense)             (None, 32)                2080      \n",
      "                                                                 \n",
      " dense_7 (Dense)             (None, 1)                 33        \n",
      "                                                                 \n",
      "=================================================================\n",
      "Total params: 4,998,409\n",
      "Trainable params: 127,809\n",
      "Non-trainable params: 4,870,600\n",
      "_________________________________________________________________\n"
     ]
    }
   ],
   "source": [
    "# build a model\n",
    "model =  keras.models.Sequential([\n",
    "    Embedding(vocab_size, embedding_dim, input_length=max_length, weights=[embeddings_matrix], trainable=False),\n",
    "    Dropout(0.2),\n",
    "    Bidirectional(LSTM(64, return_sequences=True)),\n",
    "    Bidirectional(LSTM(32)),\n",
    "    Dense(32, activation='relu'),\n",
    "    Dense(1, activation='sigmoid')\n",
    "])\n",
    "\n",
    "model.summary()"
   ]
  },
  {
   "cell_type": "code",
   "execution_count": 51,
   "metadata": {},
   "outputs": [
    {
     "name": "stderr",
     "output_type": "stream",
     "text": [
      "c:\\Users\\anne\\anaconda3\\envs\\text-mining\\lib\\site-packages\\keras\\optimizers\\optimizer_v2\\adam.py:110: UserWarning: The `lr` argument is deprecated, use `learning_rate` instead.\n",
      "  super(Adam, self).__init__(name, **kwargs)\n"
     ]
    }
   ],
   "source": [
    "optimizer = Adam(lr=3e-4)\n",
    "model.compile(loss='binary_crossentropy', optimizer=optimizer, metrics=['accuracy'])"
   ]
  },
  {
   "cell_type": "code",
   "execution_count": 55,
   "metadata": {},
   "outputs": [
    {
     "name": "stdout",
     "output_type": "stream",
     "text": [
      "Epoch 1/20\n",
      "2733/2733 [==============================] - 227s 83ms/step - loss: 0.4135 - accuracy: 0.8122 - val_loss: 0.3388 - val_accuracy: 0.8538\n",
      "Epoch 2/20\n",
      "2733/2733 [==============================] - 203s 74ms/step - loss: 0.3347 - accuracy: 0.8555 - val_loss: 0.2956 - val_accuracy: 0.8749\n",
      "Epoch 3/20\n",
      "2733/2733 [==============================] - 215s 79ms/step - loss: 0.2991 - accuracy: 0.8735 - val_loss: 0.2542 - val_accuracy: 0.8983\n",
      "Epoch 4/20\n",
      "2733/2733 [==============================] - 209s 77ms/step - loss: 0.2735 - accuracy: 0.8869 - val_loss: 0.2330 - val_accuracy: 0.9055\n",
      "Epoch 5/20\n",
      "2733/2733 [==============================] - 210s 77ms/step - loss: 0.2565 - accuracy: 0.8939 - val_loss: 0.2221 - val_accuracy: 0.9109\n",
      "Epoch 6/20\n",
      "2733/2733 [==============================] - 210s 77ms/step - loss: 0.2378 - accuracy: 0.9033 - val_loss: 0.2085 - val_accuracy: 0.9182\n",
      "Epoch 7/20\n",
      "2733/2733 [==============================] - 185s 68ms/step - loss: 0.2228 - accuracy: 0.9102 - val_loss: 0.2056 - val_accuracy: 0.9210\n",
      "Epoch 8/20\n",
      "2733/2733 [==============================] - 195s 71ms/step - loss: 0.2101 - accuracy: 0.9156 - val_loss: 0.1866 - val_accuracy: 0.9261\n",
      "Epoch 9/20\n",
      "2733/2733 [==============================] - 611s 224ms/step - loss: 0.1959 - accuracy: 0.9211 - val_loss: 0.1854 - val_accuracy: 0.9288\n",
      "Epoch 10/20\n",
      "2733/2733 [==============================] - 211s 77ms/step - loss: 0.1853 - accuracy: 0.9260 - val_loss: 0.1725 - val_accuracy: 0.9323\n",
      "Epoch 11/20\n",
      "2733/2733 [==============================] - 196s 72ms/step - loss: 0.1764 - accuracy: 0.9293 - val_loss: 0.1639 - val_accuracy: 0.9378\n",
      "Epoch 12/20\n",
      "2733/2733 [==============================] - 234s 85ms/step - loss: 0.1663 - accuracy: 0.9336 - val_loss: 0.1540 - val_accuracy: 0.9393\n",
      "Epoch 13/20\n",
      "2733/2733 [==============================] - 224s 82ms/step - loss: 0.1572 - accuracy: 0.9382 - val_loss: 0.1503 - val_accuracy: 0.9441\n",
      "Epoch 14/20\n",
      "2733/2733 [==============================] - 242s 89ms/step - loss: 0.1497 - accuracy: 0.9406 - val_loss: 0.1476 - val_accuracy: 0.9437\n",
      "Epoch 15/20\n",
      "2733/2733 [==============================] - 247s 91ms/step - loss: 0.1427 - accuracy: 0.9439 - val_loss: 0.1469 - val_accuracy: 0.9463\n",
      "Epoch 16/20\n",
      "2733/2733 [==============================] - 264s 96ms/step - loss: 0.1362 - accuracy: 0.9463 - val_loss: 0.1397 - val_accuracy: 0.9468\n",
      "Epoch 17/20\n",
      "2733/2733 [==============================] - 3888s 1s/step - loss: 0.1322 - accuracy: 0.9477 - val_loss: 0.1339 - val_accuracy: 0.9496\n",
      "Epoch 18/20\n",
      "2733/2733 [==============================] - 233s 85ms/step - loss: 0.1251 - accuracy: 0.9504 - val_loss: 0.1365 - val_accuracy: 0.9496\n",
      "Epoch 19/20\n",
      "2733/2733 [==============================] - 190s 70ms/step - loss: 0.1215 - accuracy: 0.9519 - val_loss: 0.1311 - val_accuracy: 0.9526\n",
      "Epoch 20/20\n",
      "2733/2733 [==============================] - 164s 60ms/step - loss: 0.1170 - accuracy: 0.9543 - val_loss: 0.1331 - val_accuracy: 0.9504\n"
     ]
    }
   ],
   "source": [
    "history = model.fit(X_train, y_train, epochs=20, validation_data=(X_test, y_test))"
   ]
  },
  {
   "cell_type": "code",
   "execution_count": 56,
   "metadata": {},
   "outputs": [
    {
     "name": "stdout",
     "output_type": "stream",
     "text": [
      "304/304 [==============================] - 13s 21ms/step\n"
     ]
    }
   ],
   "source": [
    "y_pred = model.predict(X_test)\n",
    "y_pred = np.where(y_pred>0.5, 1, 0)"
   ]
  },
  {
   "cell_type": "code",
   "execution_count": 57,
   "metadata": {},
   "outputs": [
    {
     "name": "stdout",
     "output_type": "stream",
     "text": [
      "              precision    recall  f1-score   support\n",
      "\n",
      "           0       0.95      0.97      0.96      6367\n",
      "           1       0.94      0.91      0.93      3349\n",
      "\n",
      "    accuracy                           0.95      9716\n",
      "   macro avg       0.95      0.94      0.94      9716\n",
      "weighted avg       0.95      0.95      0.95      9716\n",
      "\n"
     ]
    }
   ],
   "source": [
    "print(classification_report(y_test, y_pred))"
   ]
  },
  {
   "cell_type": "code",
   "execution_count": 58,
   "metadata": {},
   "outputs": [
    {
     "data": {
      "image/png": "[encoded data removed]",
      "text/plain": [
       "<Figure size 720x360 with 1 Axes>"
      ]
     },
     "metadata": {
      "needs_background": "light"
     },
     "output_type": "display_data"
    },
    {
     "data": {
      "image/png": "[encoded data removed]",
      "text/plain": [
       "<Figure size 720x360 with 1 Axes>"
      ]
     },
     "metadata": {
      "needs_background": "light"
     },
     "output_type": "display_data"
    }
   ],
   "source": [
    "#History for accuracy\n",
    "plt.figure(figsize=(10,5))\n",
    "plt.plot(history.history['accuracy'])\n",
    "plt.plot(history.history['val_accuracy'])\n",
    "plt.title('model accuracy')\n",
    "plt.ylabel('accuracy')\n",
    "plt.xlabel('epoch')\n",
    "plt.legend(['Train accuracy', 'Test accuracy'], loc='lower right')\n",
    "plt.show()\n",
    "# History for loss\n",
    "plt.figure(figsize=(10,5))\n",
    "plt.plot(history.history['loss'])\n",
    "plt.plot(history.history['val_loss'])\n",
    "plt.title('model loss')\n",
    "plt.ylabel('loss')\n",
    "plt.xlabel('epoch')\n",
    "plt.legend(['Train loss', 'Test loss'], loc='upper right')\n",
    "plt.suptitle('Accuracy and loss for second model')\n",
    "plt.show()"
   ]
  }
 ],
 "metadata": {
  "kernelspec": {
   "display_name": "Python 3.10.4 ('text-mining')",
   "language": "python",
   "name": "python3"
  },
  "language_info": {
   "codemirror_mode": {
    "name": "ipython",
    "version": 3
   },
   "file_extension": ".py",
   "mimetype": "text/x-python",
   "name": "python",
   "nbconvert_exporter": "python",
   "pygments_lexer": "ipython3",
   "version": "3.10.4"
  },
  "orig_nbformat": 4,
  "vscode": {
   "interpreter": {
    "hash": "cfe338390c11727a62cb5fadc2d49af4aa2340a26318a95b0d81fee18a2b4027"
   }
  }
 },
 "nbformat": 4,
 "nbformat_minor": 2
}
